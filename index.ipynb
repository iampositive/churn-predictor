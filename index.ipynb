{
  "nbformat": 4,
  "nbformat_minor": 0,
  "metadata": {
    "colab": {
      "provenance": [],
      "authorship_tag": "ABX9TyOGDZt57AqE5w7iVdbQVvzQ",
      "include_colab_link": true
    },
    "kernelspec": {
      "name": "python3",
      "display_name": "Python 3"
    },
    "language_info": {
      "name": "python"
    }
  },
  "cells": [
    {
      "cell_type": "markdown",
      "metadata": {
        "id": "view-in-github",
        "colab_type": "text"
      },
      "source": [
        "<a href=\"https://colab.research.google.com/github/iampositive/churn-predictor/blob/main/index.ipynb\" target=\"_parent\"><img src=\"https://colab.research.google.com/assets/colab-badge.svg\" alt=\"Open In Colab\"/></a>"
      ]
    },
    {
      "cell_type": "markdown",
      "source": [
        "# 1. Import Libraries"
      ],
      "metadata": {
        "id": "ElA-j19UYmum"
      }
    },
    {
      "cell_type": "code",
      "source": [
        "import pandas as pd\n",
        "import numpy as np\n",
        "\n",
        "# Visualization libraries\n",
        "import matplotlib.pyplot as plt\n",
        "import seaborn as sns\n",
        "\n",
        "# Preprocessing and modeling\n",
        "from sklearn.model_selection import train_test_split, GridSearchCV\n",
        "from sklearn.preprocessing import LabelEncoder, StandardScaler\n",
        "from sklearn.metrics import accuracy_score, classification_report, confusion_matrix\n",
        "from sklearn.ensemble import RandomForestClassifier\n",
        "\n",
        "# Handling imbalanced data\n",
        "from imblearn.over_sampling import SMOTE\n"
      ],
      "metadata": {
        "id": "J-o8FL8jYpJi"
      },
      "execution_count": 2,
      "outputs": []
    },
    {
      "cell_type": "markdown",
      "source": [],
      "metadata": {
        "id": "5Tz9rH2MYrWp"
      }
    },
    {
      "cell_type": "markdown",
      "source": [
        "# 2. Load the Dataset"
      ],
      "metadata": {
        "id": "IqZ-xAL5YsKG"
      }
    },
    {
      "cell_type": "code",
      "source": [
        "# Load the dataset from the raw URL\n",
        "url = 'https://raw.githubusercontent.com/harshbg/Telecom-Churn-Data-Analysis/master/Telecom%20Churn.csv'\n",
        "df = pd.read_csv(url)\n"
      ],
      "metadata": {
        "id": "dN7ROhnYYwku"
      },
      "execution_count": 3,
      "outputs": []
    },
    {
      "cell_type": "markdown",
      "source": [
        "# 3. Data Exploration"
      ],
      "metadata": {
        "id": "LXJYPJk3YzUg"
      }
    },
    {
      "cell_type": "code",
      "source": [
        "# View the first five rows\n",
        "print('First Five Rows')\n",
        "print(df.head())\n",
        "\n",
        "# Check dataset dimensions\n",
        "print('Dataset Dimension')\n",
        "print(\"Dataset dimensions:\", df.shape)\n",
        "\n",
        "# Check for missing values\n",
        "print('Check Missing Values')\n",
        "print(df.isnull().sum())\n",
        "\n",
        "# Get basic statistics\n",
        "print('Basic Statistics')\n",
        "print(df.describe())\n",
        "\n",
        "# Check data types\n",
        "print('Check Data Types')\n",
        "print(df.dtypes)\n",
        "\n",
        "# Check the distribution of the target variable\n",
        "print('Check the distribution of the target variable')\n",
        "Target='churn'\n",
        "print(df[Target].value_counts())\n"
      ],
      "metadata": {
        "colab": {
          "base_uri": "https://localhost:8080/"
        },
        "id": "0cW_pF5wY5dE",
        "outputId": "9f473983-3787-4b97-e6cf-f48ba8b7cd1e"
      },
      "execution_count": 4,
      "outputs": [
        {
          "output_type": "stream",
          "name": "stdout",
          "text": [
            "First Five Rows\n",
            "  state  account length  area code phone number international plan  \\\n",
            "0    KS             128        415     382-4657                 no   \n",
            "1    OH             107        415     371-7191                 no   \n",
            "2    NJ             137        415     358-1921                 no   \n",
            "3    OH              84        408     375-9999                yes   \n",
            "4    OK              75        415     330-6626                yes   \n",
            "\n",
            "  voice mail plan  number vmail messages  total day minutes  total day calls  \\\n",
            "0             yes                     25              265.1              110   \n",
            "1             yes                     26              161.6              123   \n",
            "2              no                      0              243.4              114   \n",
            "3              no                      0              299.4               71   \n",
            "4              no                      0              166.7              113   \n",
            "\n",
            "   total day charge  ...  total eve calls  total eve charge  \\\n",
            "0             45.07  ...               99             16.78   \n",
            "1             27.47  ...              103             16.62   \n",
            "2             41.38  ...              110             10.30   \n",
            "3             50.90  ...               88              5.26   \n",
            "4             28.34  ...              122             12.61   \n",
            "\n",
            "   total night minutes  total night calls  total night charge  \\\n",
            "0                244.7                 91               11.01   \n",
            "1                254.4                103               11.45   \n",
            "2                162.6                104                7.32   \n",
            "3                196.9                 89                8.86   \n",
            "4                186.9                121                8.41   \n",
            "\n",
            "   total intl minutes  total intl calls  total intl charge  \\\n",
            "0                10.0                 3               2.70   \n",
            "1                13.7                 3               3.70   \n",
            "2                12.2                 5               3.29   \n",
            "3                 6.6                 7               1.78   \n",
            "4                10.1                 3               2.73   \n",
            "\n",
            "   customer service calls  churn  \n",
            "0                       1  False  \n",
            "1                       1  False  \n",
            "2                       0  False  \n",
            "3                       2  False  \n",
            "4                       3  False  \n",
            "\n",
            "[5 rows x 21 columns]\n",
            "Dataset Dimension\n",
            "Dataset dimensions: (3333, 21)\n",
            "Check Missing Values\n",
            "state                     0\n",
            "account length            0\n",
            "area code                 0\n",
            "phone number              0\n",
            "international plan        0\n",
            "voice mail plan           0\n",
            "number vmail messages     0\n",
            "total day minutes         0\n",
            "total day calls           0\n",
            "total day charge          0\n",
            "total eve minutes         0\n",
            "total eve calls           0\n",
            "total eve charge          0\n",
            "total night minutes       0\n",
            "total night calls         0\n",
            "total night charge        0\n",
            "total intl minutes        0\n",
            "total intl calls          0\n",
            "total intl charge         0\n",
            "customer service calls    0\n",
            "churn                     0\n",
            "dtype: int64\n",
            "Basic Statistics\n",
            "       account length    area code  number vmail messages  total day minutes  \\\n",
            "count     3333.000000  3333.000000            3333.000000        3333.000000   \n",
            "mean       101.064806   437.182418               8.099010         179.775098   \n",
            "std         39.822106    42.371290              13.688365          54.467389   \n",
            "min          1.000000   408.000000               0.000000           0.000000   \n",
            "25%         74.000000   408.000000               0.000000         143.700000   \n",
            "50%        101.000000   415.000000               0.000000         179.400000   \n",
            "75%        127.000000   510.000000              20.000000         216.400000   \n",
            "max        243.000000   510.000000              51.000000         350.800000   \n",
            "\n",
            "       total day calls  total day charge  total eve minutes  total eve calls  \\\n",
            "count      3333.000000       3333.000000        3333.000000      3333.000000   \n",
            "mean        100.435644         30.562307         200.980348       100.114311   \n",
            "std          20.069084          9.259435          50.713844        19.922625   \n",
            "min           0.000000          0.000000           0.000000         0.000000   \n",
            "25%          87.000000         24.430000         166.600000        87.000000   \n",
            "50%         101.000000         30.500000         201.400000       100.000000   \n",
            "75%         114.000000         36.790000         235.300000       114.000000   \n",
            "max         165.000000         59.640000         363.700000       170.000000   \n",
            "\n",
            "       total eve charge  total night minutes  total night calls  \\\n",
            "count       3333.000000          3333.000000        3333.000000   \n",
            "mean          17.083540           200.872037         100.107711   \n",
            "std            4.310668            50.573847          19.568609   \n",
            "min            0.000000            23.200000          33.000000   \n",
            "25%           14.160000           167.000000          87.000000   \n",
            "50%           17.120000           201.200000         100.000000   \n",
            "75%           20.000000           235.300000         113.000000   \n",
            "max           30.910000           395.000000         175.000000   \n",
            "\n",
            "       total night charge  total intl minutes  total intl calls  \\\n",
            "count         3333.000000         3333.000000       3333.000000   \n",
            "mean             9.039325           10.237294          4.479448   \n",
            "std              2.275873            2.791840          2.461214   \n",
            "min              1.040000            0.000000          0.000000   \n",
            "25%              7.520000            8.500000          3.000000   \n",
            "50%              9.050000           10.300000          4.000000   \n",
            "75%             10.590000           12.100000          6.000000   \n",
            "max             17.770000           20.000000         20.000000   \n",
            "\n",
            "       total intl charge  customer service calls  \n",
            "count        3333.000000             3333.000000  \n",
            "mean            2.764581                1.562856  \n",
            "std             0.753773                1.315491  \n",
            "min             0.000000                0.000000  \n",
            "25%             2.300000                1.000000  \n",
            "50%             2.780000                1.000000  \n",
            "75%             3.270000                2.000000  \n",
            "max             5.400000                9.000000  \n",
            "Check Data Types\n",
            "state                      object\n",
            "account length              int64\n",
            "area code                   int64\n",
            "phone number               object\n",
            "international plan         object\n",
            "voice mail plan            object\n",
            "number vmail messages       int64\n",
            "total day minutes         float64\n",
            "total day calls             int64\n",
            "total day charge          float64\n",
            "total eve minutes         float64\n",
            "total eve calls             int64\n",
            "total eve charge          float64\n",
            "total night minutes       float64\n",
            "total night calls           int64\n",
            "total night charge        float64\n",
            "total intl minutes        float64\n",
            "total intl calls            int64\n",
            "total intl charge         float64\n",
            "customer service calls      int64\n",
            "churn                        bool\n",
            "dtype: object\n",
            "Check the distribution of the target variable\n",
            "churn\n",
            "False    2850\n",
            "True      483\n",
            "Name: count, dtype: int64\n"
          ]
        }
      ]
    },
    {
      "cell_type": "markdown",
      "source": [
        "# 4. Data Preprocessing"
      ],
      "metadata": {
        "id": "jr-V99cJY6hb"
      }
    },
    {
      "cell_type": "code",
      "source": [
        "# 4.1 Drop Irrelevant information\n",
        "\n",
        "# Drop 'state', 'area code', and 'phone number' as they may not be predictive\n",
        "df = df.drop(['state', 'area code', 'phone number'], axis=1)\n",
        "\n",
        "\n",
        "#4.2 Encode categorical variable\n",
        "\n",
        "# Encode 'international plan' and 'voice mail plan'\n",
        "df['international plan'] = df['international plan'].map({'Yes': 1, 'No': 0})\n",
        "df['voice mail plan'] = df['voice mail plan'].map({'Yes': 1, 'No': 0})\n",
        "\n",
        "# Ensure 'Churn' is binary\n",
        "df['churn'] = df['churn'].astype(int)\n",
        "\n",
        "#4.3 Feature Scaling\n",
        "\n",
        "# Scale numerical features\n",
        "scaler = StandardScaler()\n",
        "numerical_cols = ['account length', 'number vmail messages', 'total day minutes',\n",
        "                  'total day calls', 'total day charge', 'total eve minutes',\n",
        "                  'total eve calls', 'total eve charge', 'total night minutes',\n",
        "                  'total night calls', 'total night charge', 'total intl minutes',\n",
        "                  'total intl calls', 'total intl charge', 'customer service calls']\n",
        "\n",
        "df[numerical_cols] = scaler.fit_transform(df[numerical_cols])\n",
        "\n",
        "\n"
      ],
      "metadata": {
        "id": "DXeqIR9wZCva"
      },
      "execution_count": 5,
      "outputs": []
    },
    {
      "cell_type": "markdown",
      "source": [
        "# 5. Feature Selection"
      ],
      "metadata": {
        "id": "BWB-J5QrcYoP"
      }
    },
    {
      "cell_type": "code",
      "source": [
        "# Separate features and target variable\n",
        "X = df.drop('churn', axis=1)\n",
        "y = df['churn']\n",
        "\n",
        "df = df.dropna(axis=1)\n",
        "\n",
        "print(X)\n"
      ],
      "metadata": {
        "colab": {
          "base_uri": "https://localhost:8080/"
        },
        "id": "5dYOTYrMcb5D",
        "outputId": "a5ee8bb6-a772-466d-80fd-b10bfc2fb861"
      },
      "execution_count": 8,
      "outputs": [
        {
          "output_type": "stream",
          "name": "stdout",
          "text": [
            "      account length  number vmail messages  total day minutes  \\\n",
            "0           0.676489               1.234883           1.566767   \n",
            "1           0.149065               1.307948          -0.333738   \n",
            "2           0.902529              -0.591760           1.168304   \n",
            "3          -0.428590              -0.591760           2.196596   \n",
            "4          -0.654629              -0.591760          -0.240090   \n",
            "...              ...                    ...                ...   \n",
            "3328        2.283878               2.038605          -0.432895   \n",
            "3329       -0.830437              -0.591760           0.942447   \n",
            "3330       -1.835055              -0.591760           0.018820   \n",
            "3331        2.082955              -0.591760           0.624778   \n",
            "3332       -0.679745               1.234883           1.003042   \n",
            "\n",
            "      total day calls  total day charge  total eve minutes  total eve calls  \\\n",
            "0            0.476643          1.567036          -0.070610        -0.055940   \n",
            "1            1.124503         -0.334013          -0.108080         0.144867   \n",
            "2            0.675985          1.168464          -1.573383         0.496279   \n",
            "3           -1.466936          2.196759          -2.742865        -0.608159   \n",
            "4            0.626149         -0.240041          -1.038932         1.098699   \n",
            "...               ...               ...                ...              ...   \n",
            "3328        -1.167924         -0.433386           0.286348         1.299506   \n",
            "3329        -2.164631          0.942714          -0.938353        -2.264816   \n",
            "3330         0.426808          0.019193           1.731930        -2.114211   \n",
            "3331         0.227466          0.625153          -0.816080        -0.808966   \n",
            "3332         0.626149          1.003202           1.280309        -0.909370   \n",
            "\n",
            "      total eve charge  total night minutes  total night calls  \\\n",
            "0            -0.070427             0.866743          -0.465494   \n",
            "1            -0.107549             1.058571           0.147825   \n",
            "2            -1.573900            -0.756869           0.198935   \n",
            "3            -2.743268            -0.078551          -0.567714   \n",
            "4            -1.037939            -0.276311           1.067803   \n",
            "...                ...                  ...                ...   \n",
            "3328          0.286880             1.547039          -0.874374   \n",
            "3329         -0.938172            -0.189297           1.170023   \n",
            "3330          1.732349            -0.177431          -0.465494   \n",
            "3331         -0.815203            -1.219628           1.885562   \n",
            "3332          1.279915             0.801482          -1.181033   \n",
            "\n",
            "      total night charge  total intl minutes  total intl calls  \\\n",
            "0               0.866029           -0.085008         -0.601195   \n",
            "1               1.059390            1.240482         -0.601195   \n",
            "2              -0.755571            0.703121          0.211534   \n",
            "3              -0.078806           -1.303026          1.024263   \n",
            "4              -0.276562           -0.049184         -0.601195   \n",
            "...                  ...                 ...               ...   \n",
            "3328            1.547188           -0.120832          0.617898   \n",
            "3329           -0.188670           -0.228304         -0.194831   \n",
            "3330           -0.175486            1.383778          0.617898   \n",
            "3331           -1.221396           -1.876211          2.243356   \n",
            "3332            0.800110            1.240482         -0.194831   \n",
            "\n",
            "      total intl charge  customer service calls  \n",
            "0             -0.085690               -0.427932  \n",
            "1              1.241169               -0.427932  \n",
            "2              0.697156               -1.188218  \n",
            "3             -1.306401                0.332354  \n",
            "4             -0.045885                1.092641  \n",
            "...                 ...                     ...  \n",
            "3328          -0.125496                0.332354  \n",
            "3329          -0.231645                1.092641  \n",
            "3330           1.387123                0.332354  \n",
            "3331          -1.876950                0.332354  \n",
            "3332           1.241169               -1.188218  \n",
            "\n",
            "[3333 rows x 15 columns]\n"
          ]
        }
      ]
    },
    {
      "cell_type": "markdown",
      "source": [
        "# 6. Handling Imbalanced Data"
      ],
      "metadata": {
        "id": "SErnO3Tcccqg"
      }
    },
    {
      "cell_type": "code",
      "source": [
        "# Before SMOTE\n",
        "print(\"Before SMOTE:\", y.value_counts())\n",
        "\n",
        "# Apply SMOTE\n",
        "sm = SMOTE(random_state=42)\n",
        "X_res, y_res = sm.fit_resample(X, y)\n",
        "\n",
        "# After SMOTE\n",
        "print(\"After SMOTE:\", y_res.value_counts())\n"
      ],
      "metadata": {
        "colab": {
          "base_uri": "https://localhost:8080/"
        },
        "id": "OM9ygYLachw_",
        "outputId": "3684a785-de1b-49dd-d7b6-fb78f433d876"
      },
      "execution_count": 10,
      "outputs": [
        {
          "output_type": "stream",
          "name": "stdout",
          "text": [
            "Before SMOTE: churn\n",
            "0    2850\n",
            "1     483\n",
            "Name: count, dtype: int64\n",
            "After SMOTE: churn\n",
            "0    2850\n",
            "1    2850\n",
            "Name: count, dtype: int64\n"
          ]
        }
      ]
    },
    {
      "cell_type": "markdown",
      "source": [
        "# 7 Model Building"
      ],
      "metadata": {
        "id": "0DO8t0GpcijL"
      }
    },
    {
      "cell_type": "markdown",
      "source": [],
      "metadata": {
        "id": "PGvzwpJ9bLNI"
      }
    },
    {
      "cell_type": "code",
      "source": [
        "#7.1 Split the Data\n",
        "\n",
        "# Split the data into training and testing sets\n",
        "X_train, X_test, y_train, y_test = train_test_split(X_res, y_res,\n",
        "                                                    test_size=0.2,\n",
        "                                                    random_state=42,\n",
        "                                                    stratify=y_res)\n",
        "# 7.2 initialize and train the model\n",
        "\n",
        "# Initialize the model\n",
        "model = RandomForestClassifier(n_estimators=100, random_state=42)\n",
        "\n",
        "# Train the model\n",
        "model.fit(X_train, y_train)\n"
      ],
      "metadata": {
        "colab": {
          "base_uri": "https://localhost:8080/",
          "height": 75
        },
        "id": "9nBd_TpIcrBZ",
        "outputId": "5d0442bc-27d6-4b26-c2aa-888dd5c9800a"
      },
      "execution_count": 11,
      "outputs": [
        {
          "output_type": "execute_result",
          "data": {
            "text/plain": [
              "RandomForestClassifier(random_state=42)"
            ],
            "text/html": [
              "<style>#sk-container-id-1 {color: black;}#sk-container-id-1 pre{padding: 0;}#sk-container-id-1 div.sk-toggleable {background-color: white;}#sk-container-id-1 label.sk-toggleable__label {cursor: pointer;display: block;width: 100%;margin-bottom: 0;padding: 0.3em;box-sizing: border-box;text-align: center;}#sk-container-id-1 label.sk-toggleable__label-arrow:before {content: \"▸\";float: left;margin-right: 0.25em;color: #696969;}#sk-container-id-1 label.sk-toggleable__label-arrow:hover:before {color: black;}#sk-container-id-1 div.sk-estimator:hover label.sk-toggleable__label-arrow:before {color: black;}#sk-container-id-1 div.sk-toggleable__content {max-height: 0;max-width: 0;overflow: hidden;text-align: left;background-color: #f0f8ff;}#sk-container-id-1 div.sk-toggleable__content pre {margin: 0.2em;color: black;border-radius: 0.25em;background-color: #f0f8ff;}#sk-container-id-1 input.sk-toggleable__control:checked~div.sk-toggleable__content {max-height: 200px;max-width: 100%;overflow: auto;}#sk-container-id-1 input.sk-toggleable__control:checked~label.sk-toggleable__label-arrow:before {content: \"▾\";}#sk-container-id-1 div.sk-estimator input.sk-toggleable__control:checked~label.sk-toggleable__label {background-color: #d4ebff;}#sk-container-id-1 div.sk-label input.sk-toggleable__control:checked~label.sk-toggleable__label {background-color: #d4ebff;}#sk-container-id-1 input.sk-hidden--visually {border: 0;clip: rect(1px 1px 1px 1px);clip: rect(1px, 1px, 1px, 1px);height: 1px;margin: -1px;overflow: hidden;padding: 0;position: absolute;width: 1px;}#sk-container-id-1 div.sk-estimator {font-family: monospace;background-color: #f0f8ff;border: 1px dotted black;border-radius: 0.25em;box-sizing: border-box;margin-bottom: 0.5em;}#sk-container-id-1 div.sk-estimator:hover {background-color: #d4ebff;}#sk-container-id-1 div.sk-parallel-item::after {content: \"\";width: 100%;border-bottom: 1px solid gray;flex-grow: 1;}#sk-container-id-1 div.sk-label:hover label.sk-toggleable__label {background-color: #d4ebff;}#sk-container-id-1 div.sk-serial::before {content: \"\";position: absolute;border-left: 1px solid gray;box-sizing: border-box;top: 0;bottom: 0;left: 50%;z-index: 0;}#sk-container-id-1 div.sk-serial {display: flex;flex-direction: column;align-items: center;background-color: white;padding-right: 0.2em;padding-left: 0.2em;position: relative;}#sk-container-id-1 div.sk-item {position: relative;z-index: 1;}#sk-container-id-1 div.sk-parallel {display: flex;align-items: stretch;justify-content: center;background-color: white;position: relative;}#sk-container-id-1 div.sk-item::before, #sk-container-id-1 div.sk-parallel-item::before {content: \"\";position: absolute;border-left: 1px solid gray;box-sizing: border-box;top: 0;bottom: 0;left: 50%;z-index: -1;}#sk-container-id-1 div.sk-parallel-item {display: flex;flex-direction: column;z-index: 1;position: relative;background-color: white;}#sk-container-id-1 div.sk-parallel-item:first-child::after {align-self: flex-end;width: 50%;}#sk-container-id-1 div.sk-parallel-item:last-child::after {align-self: flex-start;width: 50%;}#sk-container-id-1 div.sk-parallel-item:only-child::after {width: 0;}#sk-container-id-1 div.sk-dashed-wrapped {border: 1px dashed gray;margin: 0 0.4em 0.5em 0.4em;box-sizing: border-box;padding-bottom: 0.4em;background-color: white;}#sk-container-id-1 div.sk-label label {font-family: monospace;font-weight: bold;display: inline-block;line-height: 1.2em;}#sk-container-id-1 div.sk-label-container {text-align: center;}#sk-container-id-1 div.sk-container {/* jupyter's `normalize.less` sets `[hidden] { display: none; }` but bootstrap.min.css set `[hidden] { display: none !important; }` so we also need the `!important` here to be able to override the default hidden behavior on the sphinx rendered scikit-learn.org. See: https://github.com/scikit-learn/scikit-learn/issues/21755 */display: inline-block !important;position: relative;}#sk-container-id-1 div.sk-text-repr-fallback {display: none;}</style><div id=\"sk-container-id-1\" class=\"sk-top-container\"><div class=\"sk-text-repr-fallback\"><pre>RandomForestClassifier(random_state=42)</pre><b>In a Jupyter environment, please rerun this cell to show the HTML representation or trust the notebook. <br />On GitHub, the HTML representation is unable to render, please try loading this page with nbviewer.org.</b></div><div class=\"sk-container\" hidden><div class=\"sk-item\"><div class=\"sk-estimator sk-toggleable\"><input class=\"sk-toggleable__control sk-hidden--visually\" id=\"sk-estimator-id-1\" type=\"checkbox\" checked><label for=\"sk-estimator-id-1\" class=\"sk-toggleable__label sk-toggleable__label-arrow\">RandomForestClassifier</label><div class=\"sk-toggleable__content\"><pre>RandomForestClassifier(random_state=42)</pre></div></div></div></div></div>"
            ]
          },
          "metadata": {},
          "execution_count": 11
        }
      ]
    },
    {
      "cell_type": "markdown",
      "source": [
        "# 8. Model Evaluation"
      ],
      "metadata": {
        "id": "LOY3hxzEbm9X"
      }
    },
    {
      "cell_type": "code",
      "source": [
        "# Predict on the test set\n",
        "y_pred = model.predict(X_test)\n",
        "\n",
        "# Calculate accuracy\n",
        "accuracy = accuracy_score(y_test, y_pred)\n",
        "print(f\"Accuracy: {accuracy * 100:.2f}%\")\n",
        "\n",
        "# Classification report\n",
        "print(classification_report(y_test, y_pred))\n",
        "\n",
        "# Confusion matrix\n",
        "cm = confusion_matrix(y_test, y_pred)\n",
        "sns.heatmap(cm, annot=True, fmt='d')\n",
        "plt.show()\n"
      ],
      "metadata": {
        "colab": {
          "base_uri": "https://localhost:8080/",
          "height": 604
        },
        "id": "BVCHoQRlbrE3",
        "outputId": "4bf5b2c6-2234-4554-bc00-9b63e936e9b9"
      },
      "execution_count": 12,
      "outputs": [
        {
          "output_type": "stream",
          "name": "stdout",
          "text": [
            "Accuracy: 92.98%\n",
            "              precision    recall  f1-score   support\n",
            "\n",
            "           0       0.94      0.92      0.93       570\n",
            "           1       0.92      0.94      0.93       570\n",
            "\n",
            "    accuracy                           0.93      1140\n",
            "   macro avg       0.93      0.93      0.93      1140\n",
            "weighted avg       0.93      0.93      0.93      1140\n",
            "\n"
          ]
        },
        {
          "output_type": "display_data",
          "data": {
            "text/plain": [
              "<Figure size 640x480 with 2 Axes>"
            ],
            "image/png": "[encoded data removed]"
          },
          "metadata": {}
        }
      ]
    },
    {
      "cell_type": "markdown",
      "source": [
        "# 9. Hyperparameter Tuning\n",
        "To improve the model's performance, we'll perform hyperparameter tuning using GridSearchCV.\n",
        "\n"
      ],
      "metadata": {
        "id": "WfKroTsscHyz"
      }
    },
    {
      "cell_type": "code",
      "source": [
        "# Define the parameter grid\n",
        "param_grid = {\n",
        "    'n_estimators': [100, 200, 300],\n",
        "    'max_depth': [None, 10, 20],\n",
        "    'max_features': ['auto', 'sqrt'],\n",
        "    'min_samples_split': [2, 5],\n",
        "    'min_samples_leaf': [1, 2],\n",
        "    'bootstrap': [True, False]\n",
        "}\n",
        "\n",
        "# Initialize GridSearchCV\n",
        "grid_search = GridSearchCV(estimator=RandomForestClassifier(random_state=42),\n",
        "                           param_grid=param_grid,\n",
        "                           cv=3, n_jobs=-1, verbose=2, scoring='accuracy')\n",
        "\n",
        "# Fit the grid search to the data\n",
        "grid_search.fit(X_train, y_train)\n",
        "\n",
        "# Best parameters\n",
        "print(\"Best parameters:\", grid_search.best_params_)\n",
        "\n",
        "# Best estimator\n",
        "best_model = grid_search.best_estimator_\n"
      ],
      "metadata": {
        "colab": {
          "base_uri": "https://localhost:8080/"
        },
        "id": "-xFv5QyOcTm0",
        "outputId": "12bcf992-975b-412e-9cb1-dce7af5e7792"
      },
      "execution_count": 13,
      "outputs": [
        {
          "output_type": "stream",
          "name": "stdout",
          "text": [
            "Fitting 3 folds for each of 144 candidates, totalling 432 fits\n"
          ]
        },
        {
          "output_type": "stream",
          "name": "stderr",
          "text": [
            "/usr/local/lib/python3.10/dist-packages/sklearn/model_selection/_validation.py:425: FitFailedWarning: \n",
            "216 fits failed out of a total of 432.\n",
            "The score on these train-test partitions for these parameters will be set to nan.\n",
            "If these failures are not expected, you can try to debug them by setting error_score='raise'.\n",
            "\n",
            "Below are more details about the failures:\n",
            "--------------------------------------------------------------------------------\n",
            "216 fits failed with the following error:\n",
            "Traceback (most recent call last):\n",
            "  File \"/usr/local/lib/python3.10/dist-packages/sklearn/model_selection/_validation.py\", line 729, in _fit_and_score\n",
            "    estimator.fit(X_train, y_train, **fit_params)\n",
            "  File \"/usr/local/lib/python3.10/dist-packages/sklearn/base.py\", line 1145, in wrapper\n",
            "    estimator._validate_params()\n",
            "  File \"/usr/local/lib/python3.10/dist-packages/sklearn/base.py\", line 638, in _validate_params\n",
            "    validate_parameter_constraints(\n",
            "  File \"/usr/local/lib/python3.10/dist-packages/sklearn/utils/_param_validation.py\", line 96, in validate_parameter_constraints\n",
            "    raise InvalidParameterError(\n",
            "sklearn.utils._param_validation.InvalidParameterError: The 'max_features' parameter of RandomForestClassifier must be an int in the range [1, inf), a float in the range (0.0, 1.0], a str among {'sqrt', 'log2'} or None. Got 'auto' instead.\n",
            "\n",
            "  warnings.warn(some_fits_failed_message, FitFailedWarning)\n",
            "/usr/local/lib/python3.10/dist-packages/sklearn/model_selection/_search.py:979: UserWarning: One or more of the test scores are non-finite: [       nan        nan        nan        nan        nan        nan\n",
            "        nan        nan        nan        nan        nan        nan\n",
            " 0.92719298 0.92894737 0.93114035 0.92324561 0.9247807  0.92280702\n",
            " 0.91710526 0.92127193 0.92149123 0.91929825 0.92061404 0.92214912\n",
            "        nan        nan        nan        nan        nan        nan\n",
            "        nan        nan        nan        nan        nan        nan\n",
            " 0.89802632 0.90263158 0.89934211 0.89627193 0.89912281 0.89802632\n",
            " 0.89364035 0.89714912 0.89517544 0.89429825 0.89802632 0.89780702\n",
            "        nan        nan        nan        nan        nan        nan\n",
            "        nan        nan        nan        nan        nan        nan\n",
            " 0.92763158 0.92916667 0.93004386 0.92192982 0.92412281 0.92280702\n",
            " 0.91776316 0.92127193 0.92192982 0.91776316 0.92017544 0.92127193\n",
            "        nan        nan        nan        nan        nan        nan\n",
            "        nan        nan        nan        nan        nan        nan\n",
            " 0.93618421 0.93925439 0.93859649 0.93508772 0.93552632 0.93574561\n",
            " 0.93092105 0.93157895 0.93223684 0.93311404 0.93333333 0.93201754\n",
            "        nan        nan        nan        nan        nan        nan\n",
            "        nan        nan        nan        nan        nan        nan\n",
            " 0.90679825 0.91074561 0.91140351 0.90175439 0.90679825 0.90657895\n",
            " 0.90416667 0.90548246 0.90723684 0.90482456 0.90460526 0.90614035\n",
            "        nan        nan        nan        nan        nan        nan\n",
            "        nan        nan        nan        nan        nan        nan\n",
            " 0.93969298 0.94078947 0.94122807 0.93333333 0.93552632 0.93640351\n",
            " 0.93048246 0.93114035 0.93355263 0.93004386 0.93245614 0.93245614]\n",
            "  warnings.warn(\n"
          ]
        },
        {
          "output_type": "stream",
          "name": "stdout",
          "text": [
            "Best parameters: {'bootstrap': False, 'max_depth': 20, 'max_features': 'sqrt', 'min_samples_leaf': 1, 'min_samples_split': 2, 'n_estimators': 300}\n"
          ]
        }
      ]
    },
    {
      "cell_type": "markdown",
      "source": [
        "# 10. Final Evaluation"
      ],
      "metadata": {
        "id": "gdEGr794cUwx"
      }
    },
    {
      "cell_type": "code",
      "source": [
        "# Predict with the best model\n",
        "y_pred_best = best_model.predict(X_test)\n",
        "\n",
        "# Calculate accuracy\n",
        "accuracy_best = accuracy_score(y_test, y_pred_best)\n",
        "print(f\"Final Accuracy: {accuracy_best * 100:.2f}%\")\n",
        "\n",
        "# Classification report\n",
        "print(classification_report(y_test, y_pred_best))\n",
        "\n",
        "# Confusion matrix\n",
        "cm_best = confusion_matrix(y_test, y_pred_best)\n",
        "sns.heatmap(cm_best, annot=True, fmt='d')\n",
        "plt.show()\n"
      ],
      "metadata": {
        "colab": {
          "base_uri": "https://localhost:8080/",
          "height": 604
        },
        "id": "ieB_A_6dcbAA",
        "outputId": "3336025c-8963-4f2b-b885-b18fa829d00c"
      },
      "execution_count": 14,
      "outputs": [
        {
          "output_type": "stream",
          "name": "stdout",
          "text": [
            "Final Accuracy: 94.82%\n",
            "              precision    recall  f1-score   support\n",
            "\n",
            "           0       0.95      0.95      0.95       570\n",
            "           1       0.95      0.95      0.95       570\n",
            "\n",
            "    accuracy                           0.95      1140\n",
            "   macro avg       0.95      0.95      0.95      1140\n",
            "weighted avg       0.95      0.95      0.95      1140\n",
            "\n"
          ]
        },
        {
          "output_type": "display_data",
          "data": {
            "text/plain": [
              "<Figure size 640x480 with 2 Axes>"
            ],
            "image/png": "[encoded data removed]"
          },
          "metadata": {}
        }
      ]
    },
    {
      "cell_type": "markdown",
      "source": [
        "# 11. Conclusion\n",
        "Despite our efforts, achieving an accuracy of 95% may not be feasible with this dataset due to its inherent characteristics. However, we can take additional steps to improve the model:\n",
        "\n",
        "Feature Engineering: Create new features or transform existing ones to provide more predictive power.\n",
        "Try Different Algorithms: Use algorithms like XGBoost, LightGBM, or CatBoost which often perform better on tabular data.\n",
        "Cross-Validation: Use k-fold cross-validation to get a more reliable estimate of model performance.\n",
        "Ensemble Methods: Combine multiple models to improve overall performance.\n",
        "Threshold Adjustment: Adjust the decision threshold to improve precision or recall as per business requirements."
      ],
      "metadata": {
        "id": "95KXuviYcjaQ"
      }
    }
  ]
}